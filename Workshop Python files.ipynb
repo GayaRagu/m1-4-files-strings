{
 "cells": [
  {
   "cell_type": "markdown",
   "metadata": {},
   "source": [
    "# Safe dict reading\n",
    "\n",
    "define a function `safe_dict(d, k)` that takes in a python dict `d` and a key `k` and makes it safe to read even with keys that aren't in the dictionary. If you try to read from the dictionary with a bad key, it should return 0 instead.\n",
    "\n",
    "```\n",
    "d = {1 : 2, 3 : 4}\n",
    "safe_dict(d, 1) -> 2\n",
    "safe_dict(d, 'cat') -> 0\n",
    "```"
   ]
  },
  {
   "cell_type": "code",
   "execution_count": 1,
   "metadata": {},
   "outputs": [
    {
     "name": "stdout",
     "output_type": "stream",
     "text": [
      "2\n",
      "0\n"
     ]
    }
   ],
   "source": [
    "# Function that takes in a python dict d and a key k and makes it safe to read even with keys that aren't in the dictionary.\n",
    "def safe_dict(d,x):\n",
    "    try:\n",
    "        return d[x]\n",
    "    except KeyError:\n",
    "        return 0\n",
    "\n",
    "print(safe_dict({1 : 2, 3 : 4}, 1)) \n",
    "print(safe_dict({1 : 2, 3 : 4}, 'cat'))"
   ]
  },
  {
   "cell_type": "markdown",
   "metadata": {
    "colab": {},
    "colab_type": "code",
    "id": "tl_ZhkbEtiTD"
   },
   "source": [
    "# File Reading: Hamlet Exercises\n",
    "\n",
    "Open `hamlet.txt` in the `data` folder\n",
    "\n",
    "### 1. Mentionned Hamlet\n",
    "\n",
    "How many times is hamlet mentioned in the book?\n",
    "\n",
    "Use python and line iteration to count it up"
   ]
  },
  {
   "cell_type": "code",
   "execution_count": 2,
   "metadata": {},
   "outputs": [
    {
     "name": "stdout",
     "output_type": "stream",
     "text": [
      "Hamlet is mentioned 474 times in the book.\n"
     ]
    }
   ],
   "source": [
    "data_file = open('data/hamlet.txt', 'r')\n",
    "\n",
    "counthamlet=0\n",
    "lines = data_file.readlines()\n",
    "\n",
    "for line in lines:\n",
    "    counthamlet+=line.upper().count('HAMLET')\n",
    "data_file.close()\n",
    "\n",
    "counthamlet\n",
    "\n",
    "print(f\"Hamlet is mentioned {counthamlet} times in the book.\")"
   ]
  },
  {
   "cell_type": "markdown",
   "metadata": {},
   "source": [
    "### 2. File Reading as a .py program\n",
    "\n",
    "Make a python file that defines a function that counts the number of times hamlet is mentionned using the code in the previous exercise.\n",
    "\n",
    "Then import it in your notebook and call it here."
   ]
  },
  {
   "cell_type": "code",
   "execution_count": 3,
   "metadata": {},
   "outputs": [],
   "source": [
    "# A python file that defines a function that counts the number of times \n",
    "# hamlet is mentionned using the code in the previous exercise\n",
    "\n",
    "with open('hamletfunctions.py', 'w') as f:\n",
    "    f.write(\n",
    "\"\"\"\n",
    "def counthamlet(datafile):\n",
    "    data_file = open(datafile, 'r')\n",
    "    \n",
    "    counthamlet=0\n",
    "    lines = data_file.readlines()\n",
    "\n",
    "    for line in lines:\n",
    "        counthamlet+=line.upper().count('HAMLET')\n",
    "    data_file.close()\n",
    "\n",
    "    return counthamlet\n",
    "\"\"\")"
   ]
  },
  {
   "cell_type": "code",
   "execution_count": 4,
   "metadata": {},
   "outputs": [
    {
     "data": {
      "text/plain": [
       "474"
      ]
     },
     "execution_count": 4,
     "metadata": {},
     "output_type": "execute_result"
    }
   ],
   "source": [
    "import hamletfunctions\n",
    "\n",
    "hamletfunctions.counthamlet('data/hamlet.txt')"
   ]
  },
  {
   "cell_type": "markdown",
   "metadata": {},
   "source": [
    "### 3. Unique words in hamlet\n",
    "\n",
    "Write a program that counts the unique words in hamlet."
   ]
  },
  {
   "cell_type": "code",
   "execution_count": 5,
   "metadata": {},
   "outputs": [
    {
     "name": "stdout",
     "output_type": "stream",
     "text": [
      "There are 4900 unique words in the book.\n"
     ]
    }
   ],
   "source": [
    "# Program that counts the unique words in hamlet\n",
    "\n",
    "import re\n",
    "regex = re.compile('\\s+')\n",
    "\n",
    "def uniquewords(datafile):\n",
    "    data_file = open(datafile, 'r')\n",
    "    \n",
    "    allwords = []\n",
    "    lines = data_file.readlines()\n",
    "    \n",
    "    for line in lines:\n",
    "        if len(line)>1:\n",
    "            cleanline = line.upper().replace(\".\",\" \").replace(\";\", \" \")\n",
    "            cleanline = cleanline.replace(\":\", \" \").replace(\",\", \" \").replace('\"', \" \")\n",
    "            cleanline = cleanline.replace(\"[\", \" \").replace(\"]\", \" \").replace(\"_\", \" \")\n",
    "            cleanline = cleanline.replace(\"-\", \" \").replace(\"!\", \" \").replace(\"?\", \" \").replace(\"\\n\", \" \")\n",
    "            for e in regex.split(cleanline.strip()):\n",
    "                allwords.append(e)\n",
    "\n",
    "    data_file.close()\n",
    "    #print(sorted(set(allwords)))   \n",
    "    count_unique=len(set(allwords))\n",
    "    return count_unique\n",
    "\n",
    "print(f\"There are {uniquewords('data/hamlet.txt')} unique words in the book.\")"
   ]
  },
  {
   "cell_type": "markdown",
   "metadata": {},
   "source": [
    "# File Reading 2: A Python library.\n",
    "\n",
    "In the `data` folder, you will find a folder called `csrgraph` which is a python library.\n",
    "\n",
    "### 1. File count\n",
    "\n",
    "Count the `py` files in the library using the `os` package"
   ]
  },
  {
   "cell_type": "code",
   "execution_count": 6,
   "metadata": {},
   "outputs": [
    {
     "name": "stdout",
     "output_type": "stream",
     "text": [
      "8\n"
     ]
    }
   ],
   "source": [
    "# Count the py files in the library using the os package\n",
    "\n",
    "import os\n",
    "listfiles = os.listdir('data/csrgraph')\n",
    "count=0\n",
    "for i in range(len(listfiles)):\n",
    "    if listfiles[i].endswith('.py'):\n",
    "        count+=1\n",
    "print(count)\n",
    "#print(os.listdir('data/csrgraph'))"
   ]
  },
  {
   "cell_type": "markdown",
   "metadata": {},
   "source": [
    "### 2. For the following packages, count the number of files that import them:\n",
    "\n",
    "- pandas \n",
    "\n",
    "- numpy\n",
    "\n",
    "- numba"
   ]
  },
  {
   "cell_type": "code",
   "execution_count": 7,
   "metadata": {},
   "outputs": [
    {
     "name": "stdout",
     "output_type": "stream",
     "text": [
      "4\n",
      "6\n",
      "6\n"
     ]
    }
   ],
   "source": [
    "def countimports(package,directory):\n",
    "    listfiles = os.listdir(directory)\n",
    "    countfiles=0\n",
    "    for i in range(len(listfiles)):\n",
    "        if listfiles[i].endswith('.py'):\n",
    "            filepath = directory+'/'+listfiles[i]\n",
    "            with open(filepath, 'r') as f:\n",
    "                readfile = f.read().replace('\\n', '')\n",
    "                if readfile.find(package) != -1:\n",
    "                    countfiles+=1\n",
    "    return countfiles\n",
    "\n",
    "print(countimports('pandas','data/csrgraph'))\n",
    "print(countimports('numpy','data/csrgraph'))\n",
    "print(countimports('numba','data/csrgraph'))"
   ]
  },
  {
   "cell_type": "markdown",
   "metadata": {},
   "source": [
    "# First NLP Program: IDF\n",
    "\n",
    "Given a list of words, the the inverse document frequency (IDF) is a basic statistic of the amount of information of each word in the text.\n",
    "\n",
    "The IDF formulat is:\n",
    "\n",
    "$$IDF(w) = ln(\\dfrac{N}{1 + n(w)})$$\n",
    "\n",
    "Where:\n",
    "\n",
    "- $w$ is the token (unique word),\n",
    "- $n(w)$ is the number of documents that $w$ occurs in,\n",
    "- $N$ is the total number of documents\n",
    "\n",
    "Write a function, `idf(docs)` that takes in a list of lists of words and returns a dictionary  `word -> idf score`\n",
    "\n",
    "Example:\n",
    "\n",
    "```\n",
    "IDF([['interview', 'questions'], ['interview', 'answers']]) -> {'questions': 0.0, \n",
    "                                                                'interview': -0.4, \n",
    "                                                                'answers': 0.0}\n",
    "\n",
    "\n",
    "```"
   ]
  },
  {
   "cell_type": "code",
   "execution_count": 8,
   "metadata": {},
   "outputs": [
    {
     "data": {
      "text/plain": [
       "{'answers': 0.0, 'interview': -0.40546510810816444, 'questions': 0.0}"
      ]
     },
     "execution_count": 8,
     "metadata": {},
     "output_type": "execute_result"
    }
   ],
   "source": [
    "# Function, idf(docs) that takes in a list of lists of words \n",
    "# and returns a dictionary word -> idf score\n",
    "\n",
    "import numpy as np\n",
    "\n",
    "def idf(docs):\n",
    "    tokens=np.unique(docs)\n",
    "        \n",
    "    nlist=[]\n",
    "    for w in tokens:\n",
    "        n=0\n",
    "        for doc in docs:\n",
    "            strtoken = ' '.join(doc)\n",
    "            if strtoken.find(w) != -1:\n",
    "                n+=1\n",
    "        nlist.append((w,n))\n",
    "\n",
    "    k,v = [],[]\n",
    "    for i in range(len(nlist)):\n",
    "        k.append(nlist[i][0])\n",
    "        n = nlist[i][1]\n",
    "        v.append(np.log(len(docs)/(1+(n))))\n",
    "\n",
    "    return dict(zip(k,v))\n",
    "\n",
    "# Test Scenarios & print result \n",
    "\n",
    "docs=([['interview', 'questions'], ['interview', 'answers']])\n",
    "idf(docs)"
   ]
  },
  {
   "cell_type": "markdown",
   "metadata": {
    "colab": {},
    "colab_type": "code",
    "id": "82bfnc_KueoX"
   },
   "source": [
    "# Stretch Goal: TF-IDF on Hamlet\n",
    "\n",
    "The TF-IDF score is a commonly used statistic for the importance of words. Its $\\frac{TF}{IDF}$ where TF is the \"term frequency\" (eg. how often the words happens in the document).\n",
    "\n",
    "Calculate the TF-IDF dictionary on the Hamlet book.\n",
    "\n",
    "What's the TF-IDF of \"Hamlet\"?\n",
    "\n",
    "What's the word with the highest TF-IDF in the book?"
   ]
  },
  {
   "cell_type": "code",
   "execution_count": null,
   "metadata": {},
   "outputs": [],
   "source": []
  },
  {
   "cell_type": "markdown",
   "metadata": {},
   "source": [
    "# Stretch Goal: Speaker count\n",
    "\n",
    "Use a regular expression and looping over the `hamlet.txt` file to build a dictionary `character_name -> # times speaking`.\n",
    "\n",
    "Who speaks the most often? Who speaks the least often?"
   ]
  },
  {
   "cell_type": "code",
   "execution_count": null,
   "metadata": {},
   "outputs": [],
   "source": []
  }
 ],
 "metadata": {
  "colab": {
   "authorship_tag": "ABX9TyPMuPsz+efoYpJzg8ElS0Ut",
   "collapsed_sections": [],
   "name": "Workshop Python Intro.ipynb",
   "provenance": []
  },
  "kernelspec": {
   "display_name": "Python 3",
   "language": "python",
   "name": "python3"
  },
  "language_info": {
   "codemirror_mode": {
    "name": "ipython",
    "version": 3
   },
   "file_extension": ".py",
   "mimetype": "text/x-python",
   "name": "python",
   "nbconvert_exporter": "python",
   "pygments_lexer": "ipython3",
   "version": "3.8.3"
  }
 },
 "nbformat": 4,
 "nbformat_minor": 4
}
